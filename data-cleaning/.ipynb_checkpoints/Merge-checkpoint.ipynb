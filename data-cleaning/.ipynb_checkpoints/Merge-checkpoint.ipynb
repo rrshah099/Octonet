{
 "cells": [
  {
   "cell_type": "markdown",
   "metadata": {},
   "source": [
    "Prototype of merging an Excel file plus audio into a dataframe"
   ]
  },
  {
   "cell_type": "code",
   "execution_count": 3,
   "metadata": {},
   "outputs": [],
   "source": [
    "import os\n",
    "import re\n",
    "import pandas as p\n",
    "from pydub import AudioSegment\n",
    "\n",
    "excelfile = '10112_R2_CSV.csv'\n",
    "audios_dir = '10112_R2/'\n",
    "audio_files = os.listdir(audios_dir)\n",
    "\n",
    "df = p.read_csv(excelfile)\n"
   ]
  },
  {
   "cell_type": "code",
   "execution_count": 10,
   "metadata": {},
   "outputs": [],
   "source": [
    "def find_file(filenames, begin, end):\n",
    "    \"\"\"\n",
    "    filenames: list of filenames\n",
    "    begin: first number to look for in filename\n",
    "    end: second number to look for in filename\n",
    "    return: the first filename that contains both begin and end\n",
    "    \"\"\"\n",
    "    filenames = sorted(filenames)\n",
    "    pattern = re.compile(r'.(\\d+)-.(\\d+)') # TODO only works with current filename formatting\n",
    "    b_str = str(begin)\n",
    "    e_str = str(end)\n",
    "    for name in filenames:\n",
    "        m = pattern.match(name)\n",
    "        if m is None:\n",
    "            continue\n",
    "        if b_str == m.group(1) and e_str == m.group(2):\n",
    "            return name\n",
    "    raise ValueError('file not found')\n",
    "\n",
    "def get_begin_end(timepoint):\n",
    "    \"\"\"\n",
    "    timepoint: string from timepoint column\n",
    "    return: pair of ints (first timepoint in seconds, second timepoint in seconds)\n",
    "    \"\"\"\n",
    "    print(timepoint)\n",
    "    times = timepoint.split('-')\n",
    "    assert len(times) == 2\n",
    "    begintime = times[0]\n",
    "    endtime = times[1]\n",
    "    \n",
    "    begintime_split = begintime.split(':')\n",
    "    assert len(begintime_split) == 2\n",
    "    if begintime_split[0] == \"\":\n",
    "        begin = int(begintime_split[1])\n",
    "    else:\n",
    "        begin = 60 * int(begintime_split[0]) + int(begintime_split[1])\n",
    "    \n",
    "    endtime_split = endtime.split(':')\n",
    "    assert len(endtime_split) == 2\n",
    "    if endtime_split[0] == \"\":\n",
    "        end = int(endtime_split[1])\n",
    "    else:\n",
    "        end = 60 * int(endtime_split[0]) + int(endtime_split[1])\n",
    "    \n",
    "    return begin, end"
   ]
  },
  {
   "cell_type": "code",
   "execution_count": null,
   "metadata": {},
   "outputs": [
    {
     "name": "stderr",
     "output_type": "stream",
     "text": [
      "IOPub data rate exceeded.\n",
      "The notebook server will temporarily stop sending output\n",
      "to the client in order to avoid crashing it.\n",
      "To change this limit, set the config variable\n",
      "`--NotebookApp.iopub_data_rate_limit`.\n",
      "\n",
      "Current values:\n",
      "NotebookApp.iopub_data_rate_limit=1000000.0 (bytes/sec)\n",
      "NotebookApp.rate_limit_window=3.0 (secs)\n",
      "\n"
     ]
    }
   ],
   "source": [
    "# Load file for each row, create new column, add that column\n",
    "audios = []\n",
    "debug = True\n",
    "for tp in df['Timepoint']:\n",
    "    b, e = get_begin_end(tp)\n",
    "    fname = find_file(audio_files, b, e)\n",
    "    if debug:\n",
    "        print('tp:', tp, '\\tfname:', fname, '\\tb:', b, '\\te:', e)\n",
    "    audio = AudioSegment.from_wav(os.path.join(audios_dir, fname))\n",
    "    # NOTE: if file fails to load, pydub handles it by truncating audio data\n",
    "    print('raw bytes loaded:', audio.raw_data)\n",
    "    audios.append(audio)\n",
    "df['Audio Clip'] = audios\n",
    "print('done')"
   ]
  },
  {
   "cell_type": "code",
   "execution_count": null,
   "metadata": {},
   "outputs": [],
   "source": []
  }
 ],
 "metadata": {
  "kernelspec": {
   "display_name": "Python 3",
   "language": "python",
   "name": "python3"
  },
  "language_info": {
   "codemirror_mode": {
    "name": "ipython",
    "version": 3
   },
   "file_extension": ".py",
   "mimetype": "text/x-python",
   "name": "python",
   "nbconvert_exporter": "python",
   "pygments_lexer": "ipython3",
   "version": "3.8.5"
  }
 },
 "nbformat": 4,
 "nbformat_minor": 5
}
